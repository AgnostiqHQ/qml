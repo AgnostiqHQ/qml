{
 "cells": [
  {
   "cell_type": "markdown",
   "metadata": {},
   "source": [
    "# Classification with GPU-quantum embedding kernels on Covalent Cloud"
   ]
  },
  {
   "cell_type": "markdown",
   "metadata": {},
   "source": [
    "Quantum support-vector machines (QSVMs) are essentially [traditional SVMs](https://en.wikipedia.org/wiki/Support_vector_machine) that rely on [embedding kernels](https://en.wikipedia.org/wiki/Kernel_method#Mathematics:_the_kernel_trick) evaluated on a quantum computer—a.k.a. [*quantum embedding kernel*](https://pennylane.ai/qml/demos/tutorial_kernels_module/#training-and-evaluating-quantum-kernels). These kernels provide a unique (and perhaps classically-intractable) means of measuring pairwise similarity.\n",
    "\n",
    "Using GPUs to simulate quantum computers is worthwhile when qubit capacity and/or fidelity requirements are not met by the available quantum hardware. While QSVMs are relatively tolerant to noise (an important reason for their current popularity), evaluating kernels on *real* quantum hardware is not always practical nor necessary.\n",
    "\n",
    "In this tutorial, we’ll demonstrate how to run GPU-accelerated quantum circuit simulations on Covalent Cloud."
   ]
  },
  {
   "cell_type": "markdown",
   "metadata": {},
   "source": [
    "Let’s start by importing the required packages. "
   ]
  },
  {
   "cell_type": "code",
   "execution_count": 1,
   "metadata": {},
   "outputs": [],
   "source": [
    "import covalent as ct\n",
    "import covalent_cloud as cc\n",
    "import matplotlib.pyplot as plt\n",
    "import pennylane as qml\n",
    "from matplotlib.colors import ListedColormap\n",
    "from pennylane import numpy as np\n",
    "from sklearn.datasets import make_blobs\n",
    "from sklearn.inspection import DecisionBoundaryDisplay\n",
    "from sklearn.model_selection import train_test_split\n",
    "from sklearn.svm import SVC\n",
    "\n",
    "# cc.save_api_key(\"YOUR_API_KEY\")"
   ]
  },
  {
   "cell_type": "markdown",
   "metadata": {},
   "source": [
    "Covalent Cloud allows us to create [re-usable execution environments](https://docs.covalent.xyz/docs/cloud/guides/cloud_custom_environments/), as shown below. This environment represents a typical setup for running Pennylane on NVIDIA GPUs."
   ]
  },
  {
   "cell_type": "code",
   "execution_count": 2,
   "metadata": {},
   "outputs": [
    {
     "name": "stdout",
     "output_type": "stream",
     "text": [
      "Waiting for environment pennylane-gpu to be ready............................................................................................................................................................................\n",
      "Name: pennylane-gpu\n",
      "Status: READY\n",
      "Estimated Time: 1002 seconds\n",
      "Notes:\n",
      "\tpip was added to the dependencies.\n",
      "\tPython version 3.10 was added to the dependencies.\n",
      "Environment file contains:\n",
      "==========================\n",
      "channels:\n",
      "- conda-forge\n",
      "dependencies:\n",
      "- python=3.10\n",
      "- pip\n",
      "- cudatoolkit>=11.8\n",
      "- pip:\n",
      "  - cuquantum==23.10.0\n",
      "  - matplotlib==3.8.2\n",
      "  - Pennylane==0.34.0\n",
      "  - PennyLane-Lightning[GPU]==0.34.0\n",
      "  - scikit-learn==1.3.1\n",
      "  - torch==2.1.2\n",
      "  - covalent-cloud\n",
      "name: pennylane-gpu\n",
      "\n"
     ]
    }
   ],
   "source": [
    "cc.create_env(\n",
    "    name=\"pennylane-gpu\",  # identifier for referring to this environment\n",
    "    conda={\n",
    "        \"channels\": [\"conda-forge\"],\n",
    "        \"dependencies\": [\"cudatoolkit>=11.8\"],\n",
    "    }, pip=[\n",
    "        \"cuquantum==23.10.0\",\n",
    "        \"matplotlib==3.8.2\",\n",
    "        \"Pennylane==0.34.0\",\n",
    "        \"PennyLane-Lightning[GPU]==0.34.0\",\n",
    "        \"scikit-learn==1.3.1\",\n",
    "        \"torch==2.1.2\",\n",
    "    ],\n",
    "    wait=True\n",
    ")"
   ]
  },
  {
   "cell_type": "markdown",
   "metadata": {},
   "source": [
    "Next, we'll define our resource specifications by creating some [executors](https://docs.covalent.xyz/docs/user-documentation/api-reference/executors/cloud_executor) for this workflow. Both executors will run tasks in our new environment, named `”pennylane-gpu”`."
   ]
  },
  {
   "cell_type": "code",
   "execution_count": 3,
   "metadata": {},
   "outputs": [],
   "source": [
    "cpu_executor = cc.CloudExecutor(  # for lightweight non-quantum tasks\n",
    "    env=\"pennylane-gpu\",\n",
    "    num_cpus=2,\n",
    "    memory=\"2GB\",\n",
    ")\n",
    "gpu_executor = cc.CloudExecutor(  # for GPU-powered circuit simulations\n",
    "    env=\"pennylane-gpu\",\n",
    "    num_cpus=4,\n",
    "    memory=\"12GB\",\n",
    "    num_gpus=1,\n",
    "    gpu_type=\"v100\"\n",
    ")"
   ]
  },
  {
   "cell_type": "markdown",
   "metadata": {},
   "source": [
    "On to the algorithm!\n",
    "\n",
    "Here's a function returns a simple quantum kernel based on Pennylane's [IQP Embedding](https://docs.pennylane.ai/en/stable/code/api/pennylane.IQPEmbedding.html) template. We'll use it as-is inside our workflow."
   ]
  },
  {
   "cell_type": "code",
   "execution_count": 4,
   "metadata": {},
   "outputs": [],
   "source": [
    "QML_DEVICE = \"lightning.qubit\"\n",
    "\n",
    "def get_kernel_circuit(n_wires):\n",
    "\n",
    "    @qml.qnode(qml.device(QML_DEVICE, wires=n_wires, shots=None))\n",
    "    def circuit(x1, x2):\n",
    "        qml.IQPEmbedding(x1, wires=range(n_wires), n_repeats=4)\n",
    "        qml.adjoint(qml.IQPEmbedding)(x2, wires=range(n_wires), n_repeats=4)\n",
    "        return qml.probs(wires=range(n_wires))\n",
    "\n",
    "    return lambda x1, x2: circuit(x1, x2)[0]  # |0..0> state probability"
   ]
  },
  {
   "cell_type": "markdown",
   "metadata": {},
   "source": [
    "Next, each function destined for remote execution is decorated with `@ct.electron`, with an [executor](https://docs.covalent.xyz/docs/user-documentation/api-reference/executors/cloud_executor) specified therein. Only tasks that evaluate the simulated quantum kernel should require `gpu_executor`. For example, we don't need GPUs to generate our input data:"
   ]
  },
  {
   "cell_type": "code",
   "execution_count": 5,
   "metadata": {},
   "outputs": [],
   "source": [
    "@ct.electron(executor=cpu_executor)  # lightweight non-quantum task\n",
    "def get_split_data(n_samples=18, test_size=0.2):\n",
    "    centers = [(1, 1), (1, 2), (1, 3), (2, 1), (2, 2), (2, 3), (3, 1), (3, 2), (3, 3)]\n",
    "    X, y = make_blobs(n_samples, centers=centers, cluster_std=0.25, shuffle=False)\n",
    "    # rescale labels to be -1, 1\n",
    "    mapping = {0: -1, 1: 1, 2: -1, 3: 1, 4: -1, 5: 1, 6: -1, 7: 1, 8: -1}\n",
    "    y = np.array([mapping[i] for i in y])\n",
    "    X = X.astype(np.float32)\n",
    "    y = y.astype(int)\n",
    "\n",
    "    # X_train, X_test, y_train, y_test\n",
    "    return train_test_split(X, y, test_size=test_size, random_state=3)"
   ]
  },
  {
   "cell_type": "markdown",
   "metadata": {},
   "source": [
    "Classifying with the SVM, on the other hand, requires $O(n^2)$ kernel evaluations, where $n$ is the dataset size. Accordingly, we'll use GPUs (i.e. `gpu_executor`) to speed up this process."
   ]
  },
  {
   "cell_type": "code",
   "execution_count": 6,
   "metadata": {},
   "outputs": [],
   "source": [
    "DISP_SETTINGS = {\"grid_resolution\": 50, \"response_method\": \"predict\", \"alpha\": 0.5, \"cmap\": plt.cm.RdBu}\n",
    "\n",
    "@ct.electron(executor=gpu_executor)\n",
    "def classify_with_qsvm(Xtr, Xte, ytr, yte):\n",
    "    kernel = get_kernel_circuit(n_wires=Xtr.shape[1])\n",
    "\n",
    "    kernel_matrix_fn = lambda X, Z: qml.kernels.kernel_matrix(X, Z, kernel)\n",
    "    svc = SVC(kernel=kernel_matrix_fn).fit(Xtr, ytr)\n",
    "\n",
    "    # train/test accuracy\n",
    "    accuracy_tr = svc.score(Xtr, ytr)\n",
    "    accuracy_te = svc.score(Xte, yte)\n",
    "\n",
    "    # decision boundary\n",
    "    cm_bright = ListedColormap([\"#FF0000\", \"#0000FF\"])\n",
    "    disp = DecisionBoundaryDisplay.from_estimator(svc, Xte, **DISP_SETTINGS)\n",
    "    disp.ax_.scatter(Xtr[:, 0], Xtr[:, 1], c=ytr, cmap=cm_bright)\n",
    "    disp.ax_.scatter(Xte[:, 0], Xte[:, 1], c=yte, cmap=cm_bright, marker=\"$\\u25EF$\")\n",
    "\n",
    "    return accuracy_tr, accuracy_te, disp"
   ]
  },
  {
   "cell_type": "markdown",
   "metadata": {},
   "source": [
    "Putting it all together, we can define a QSVM training and testing workflow. This special function gets decorated with `@ct.lattice`."
   ]
  },
  {
   "cell_type": "code",
   "execution_count": 7,
   "metadata": {},
   "outputs": [],
   "source": [
    "@ct.lattice(workflow_executor=cpu_executor, executor=cpu_executor)\n",
    "def run_qsvm(n_samples, test_size):\n",
    "    Xtr, Xte, ytr, yte = get_split_data(n_samples, test_size)\n",
    "    return classify_with_qsvm(Xtr, Xte, ytr, yte)"
   ]
  },
  {
   "cell_type": "markdown",
   "metadata": {},
   "source": [
    "Now, to dispatch `run_qsvm` to Covalent Cloud, we call it after wrapping with `ct.dispatch`, as usual."
   ]
  },
  {
   "cell_type": "code",
   "execution_count": 8,
   "metadata": {},
   "outputs": [
    {
     "data": {
      "text/html": [
       "<pre style=\"white-space:pre;overflow-x:auto;line-height:normal;font-family:Menlo,'DejaVu Sans Mono',consolas,'Courier New',monospace\">/Users/neptune/anaconda3/envs/qml/lib/python3.10/site-packages/rich/live.py:231: UserWarning: install \"ipywidgets\" \n",
       "for Jupyter support\n",
       "  warnings.warn('install \"ipywidgets\" for Jupyter support')\n",
       "</pre>\n"
      ],
      "text/plain": [
       "/Users/neptune/anaconda3/envs/qml/lib/python3.10/site-packages/rich/live.py:231: UserWarning: install \"ipywidgets\" \n",
       "for Jupyter support\n",
       "  warnings.warn('install \"ipywidgets\" for Jupyter support')\n"
      ]
     },
     "metadata": {},
     "output_type": "display_data"
    },
    {
     "data": {
      "text/html": [
       "<pre style=\"white-space:pre;overflow-x:auto;line-height:normal;font-family:Menlo,'DejaVu Sans Mono',consolas,'Courier New',monospace\"></pre>\n"
      ],
      "text/plain": []
     },
     "metadata": {},
     "output_type": "display_data"
    },
    {
     "data": {
      "text/html": [
       "<pre style=\"white-space:pre;overflow-x:auto;line-height:normal;font-family:Menlo,'DejaVu Sans Mono',consolas,'Courier New',monospace\">\n",
       "</pre>\n"
      ],
      "text/plain": [
       "\n"
      ]
     },
     "metadata": {},
     "output_type": "display_data"
    },
    {
     "name": "stdout",
     "output_type": "stream",
     "text": [
      "Dispatch ID: 0b5d3a08-fe9c-4dc2-910b-0be6eb925663\n"
     ]
    }
   ],
   "source": [
    "dispatch_id = cc.dispatch(run_qsvm)(n_samples=64, test_size=0.2)\n",
    "print(\"Dispatch ID:\", dispatch_id)"
   ]
  },
  {
   "cell_type": "markdown",
   "metadata": {},
   "source": [
    "Here's what we get when we query and display the results."
   ]
  },
  {
   "cell_type": "code",
   "execution_count": 10,
   "metadata": {},
   "outputs": [
    {
     "name": "stderr",
     "output_type": "stream",
     "text": [
      "/Users/neptune/anaconda3/envs/qml/lib/python3.10/site-packages/covalent/_workflow/transportable_object.py:205: UserWarning: This figure was saved with matplotlib version 3.8.2 and is unlikely to function correctly.\n",
      "  return cloudpickle.loads(base64.b64decode(self._object.encode(\"utf-8\")))\n"
     ]
    },
    {
     "name": "stdout",
     "output_type": "stream",
     "text": [
      "Train accuracy: 64.7%\n",
      "Test accuracy: 76.9%\n"
     ]
    },
    {
     "data": {
      "text/plain": [
       "<sklearn.inspection._plot.decision_boundary.DecisionBoundaryDisplay at 0x32c11f7f0>"
      ]
     },
     "execution_count": 10,
     "metadata": {},
     "output_type": "execute_result"
    },
    {
     "data": {
      "image/png": "[encoded data removed]",
      "text/plain": [
       "<Figure size 640x480 with 1 Axes>"
      ]
     },
     "metadata": {},
     "output_type": "display_data"
    }
   ],
   "source": [
    "result = cc.get_result(dispatch_id, wait=True)\n",
    "result.result.load()\n",
    "\n",
    "train_acc, test_acc, decision_boundary_figure = result.result.value\n",
    "print(f\"Train accuracy: {train_acc * 100:.1f}%\")\n",
    "print(f\"Test accuracy: {test_acc * 100:.1f}%\")\n",
    "\n",
    "decision_boundary_figure"
   ]
  },
  {
   "cell_type": "markdown",
   "metadata": {},
   "source": [
    "# Conclusion\n",
    "\n",
    "In this tutorial, we demonstrated how to run quantum circuit simulations on GPUs via Covalent Cloud. We used Pennylane to define a simple quantum kernel, and then trained and tested a QSVM on a 2-dimensional dataset. To make the most of this tutorial, try experimenting with different datasets/kernels or increasing the dataset dimension, to gain a greater advantage from GPU acceleration.\n",
    "\n",
    "The cost of running this workflow is approximately $0.27. The full code is available below."
   ]
  },
  {
   "cell_type": "markdown",
   "metadata": {},
   "source": [
    "## Full Code"
   ]
  },
  {
   "cell_type": "markdown",
   "metadata": {},
   "source": [
    "```python\n",
    "import covalent as ct\n",
    "import covalent_cloud as cc\n",
    "import matplotlib.pyplot as plt\n",
    "import pennylane as qml\n",
    "from matplotlib.colors import ListedColormap\n",
    "from pennylane import numpy as np\n",
    "from sklearn.datasets import make_blobs\n",
    "from sklearn.inspection import DecisionBoundaryDisplay\n",
    "from sklearn.model_selection import train_test_split\n",
    "from sklearn.svm import SVC\n",
    "\n",
    "cc.save_api_key(\"API_KEY\")\n",
    "\n",
    "cc.create_env(\n",
    "    name=\"pennylane-gpu\",  # identifier for referring to this environment\n",
    "    conda={\n",
    "        \"channels\": [\"conda-forge\"],\n",
    "        \"dependencies\": [\"cudatoolkit>=11.8\"],\n",
    "    }, pip=[\n",
    "        \"cuquantum==23.10.0\",\n",
    "        \"matplotlib==3.8.2\",\n",
    "        \"Pennylane==0.34.0\",\n",
    "        \"PennyLane-Lightning[GPU]==0.34.0\",\n",
    "        \"scikit-learn==1.3.1\",\n",
    "        \"torch==2.1.2\",\n",
    "    ],\n",
    "    wait=True\n",
    ")\n",
    "\n",
    "cpu_executor = cc.CloudExecutor(  # for lightweight non-quantum tasks\n",
    "    env=\"pennylane-gpu\",\n",
    "    num_cpus=2,\n",
    "    memory=\"2GB\",\n",
    ")\n",
    "gpu_executor = cc.CloudExecutor(  # for GPU-powered circuit simulations\n",
    "    env=\"pennylane-gpu\",\n",
    "    num_cpus=4,\n",
    "    memory=\"12GB\",\n",
    "    num_gpus=1,\n",
    "    gpu_type=\"v100\"\n",
    ")\n",
    "\n",
    "QML_DEVICE = \"lightning.gpu\"\n",
    "\n",
    "def get_kernel_circuit(n_wires):\n",
    "\n",
    "    @qml.qnode(qml.device(QML_DEVICE, wires=n_wires, shots=None))\n",
    "    def circuit(x1, x2):\n",
    "        qml.IQPEmbedding(x1, wires=range(n_wires), n_repeats=4)\n",
    "        qml.adjoint(qml.IQPEmbedding)(x2, wires=range(n_wires), n_repeats=4)\n",
    "        return qml.probs(wires=range(n_wires))\n",
    "\n",
    "    return lambda x1, x2: circuit(x1, x2)[0]  # |0..0> state probability\n",
    "\n",
    "@ct.electron(executor=cpu_executor)  # lightweight non-quantum task\n",
    "def get_split_data(n_samples=18, test_size=0.2):\n",
    "    centers = [(1, 1), (1, 2), (1, 3), (2, 1), (2, 2), (2, 3), (3, 1), (3, 2), (3, 3)]\n",
    "    X, y = make_blobs(n_samples, centers=centers, cluster_std=0.25, shuffle=False)\n",
    "    # rescale labels to be -1, 1\n",
    "    mapping = {0: -1, 1: 1, 2: -1, 3: 1, 4: -1, 5: 1, 6: -1, 7: 1, 8: -1}\n",
    "    y = np.array([mapping[i] for i in y])\n",
    "    X = X.astype(np.float32)\n",
    "    y = y.astype(int)\n",
    "\n",
    "    # X_train, X_test, y_train, y_test\n",
    "    return train_test_split(X, y, test_size=test_size, random_state=3)\n",
    "\n",
    "DISP_SETTINGS = {\"grid_resolution\": 50, \"response_method\": \"predict\", \"alpha\": 0.5, \"cmap\": plt.cm.RdBu}\n",
    "\n",
    "@ct.electron(executor=gpu_executor)\n",
    "def classify_with_qsvm(Xtr, Xte, ytr, yte):\n",
    "    kernel = get_kernel_circuit(n_wires=Xtr.shape[1])\n",
    "\n",
    "    kernel_matrix_fn = lambda X, Z: qml.kernels.kernel_matrix(X, Z, kernel)\n",
    "    svc = SVC(kernel=kernel_matrix_fn).fit(Xtr, ytr)\n",
    "\n",
    "    # train/test accuracy\n",
    "    accuracy_tr = svc.score(Xtr, ytr)\n",
    "    accuracy_te = svc.score(Xte, yte)\n",
    "\n",
    "    # decision boundary\n",
    "    cm_bright = ListedColormap([\"#FF0000\", \"#0000FF\"])\n",
    "    disp = DecisionBoundaryDisplay.from_estimator(svc, Xte, **DISP_SETTINGS)\n",
    "    disp.ax_.scatter(Xtr[:, 0], Xtr[:, 1], c=ytr, cmap=cm_bright)\n",
    "    disp.ax_.scatter(Xte[:, 0], Xte[:, 1], c=yte, cmap=cm_bright, marker=\"$\\u25EF$\")\n",
    "\n",
    "    return accuracy_tr, accuracy_te, disp\n",
    "\n",
    "@ct.lattice(workflow_executor=cpu_executor, executor=cpu_executor)\n",
    "def run_qsvm(n_samples, test_size):\n",
    "    Xtr, Xte, ytr, yte = get_split_data(n_samples, test_size)\n",
    "    return classify_with_qsvm(Xtr, Xte, ytr, yte)\n",
    "\n",
    "dispatch_id = cc.dispatch(run_qsvm)(n_samples=64, test_size=0.2)\n",
    "print(\"Dispatch ID:\", dispatch_id)\n",
    "\n",
    "result = cc.get_result(dispatch_id, wait=True)\n",
    "result.result.load()\n",
    "\n",
    "train_acc, test_acc, decision_boundary_figure = result.result.value\n",
    "print(f\"Train accuracy: {train_acc * 100:.1f}%\")\n",
    "print(f\"Test accuracy: {test_acc * 100:.1f}%\")\n",
    "```"
   ]
  }
 ],
 "metadata": {
  "kernelspec": {
   "display_name": "Python 3 (ipykernel)",
   "language": "python",
   "name": "python3"
  },
  "language_info": {
   "codemirror_mode": {
    "name": "ipython",
    "version": 3
   },
   "file_extension": ".py",
   "mimetype": "text/x-python",
   "name": "python",
   "nbconvert_exporter": "python",
   "pygments_lexer": "ipython3",
   "version": "3.10.14"
  }
 },
 "nbformat": 4,
 "nbformat_minor": 4
}
